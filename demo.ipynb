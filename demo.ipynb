{
 "cells": [
  {
   "cell_type": "markdown",
   "metadata": {},
   "source": [
    "# Refactored Toolkit"
   ]
  },
  {
   "cell_type": "markdown",
   "metadata": {},
   "source": [
    "The starting point is a session to a data server\n",
    "(the name `DataServerSession` might change)"
   ]
  },
  {
   "cell_type": "code",
   "execution_count": 18,
   "metadata": {},
   "outputs": [],
   "source": [
    "from zhinst.toolkit import DataServerSession\n",
    "\n",
    "session =  DataServerSession()"
   ]
  },
  {
   "cell_type": "markdown",
   "metadata": {},
   "source": [
    "It es an aquivalent to the daq object in ziPython and offers the same functionality\n",
    "(module, connecting devices, ...).\n",
    "\n",
    "In a addition it implements the \"ZI\" common nodes as a lazy nodetree\n",
    "\n",
    "(if necessary one can easily acces the underlying daq object with session.daq_server)"
   ]
  },
  {
   "cell_type": "code",
   "execution_count": 19,
   "metadata": {},
   "outputs": [
    {
     "data": {
      "text/plain": [
       "'22.01'"
      ]
     },
     "execution_count": 19,
     "metadata": {},
     "output_type": "execute_result"
    }
   ],
   "source": [
    "# Accessing zi nodes\n",
    "session.about.version()"
   ]
  },
  {
   "cell_type": "code",
   "execution_count": 20,
   "metadata": {},
   "outputs": [
    {
     "data": {
      "text/plain": [
       "<zhinst.ziPython.AwgModule at 0x108669a70>"
      ]
     },
     "execution_count": 20,
     "metadata": {},
     "output_type": "execute_result"
    }
   ],
   "source": [
    "#accessing modules\n",
    "session.awg_module"
   ]
  },
  {
   "cell_type": "markdown",
   "metadata": {},
   "source": [
    "Modules accessed through toolkit are the same as the would be in ziPython, with the small but handy addition of having\n",
    "a lazy nodetree injected.\n",
    "(session.create_***_module() can be used to create a second instance of a module if necessary)"
   ]
  },
  {
   "cell_type": "code",
   "execution_count": 21,
   "metadata": {},
   "outputs": [
    {
     "data": {
      "text/plain": [
       "-1"
      ]
     },
     "execution_count": 21,
     "metadata": {},
     "output_type": "execute_result"
    }
   ],
   "source": [
    "session.awg_module.nodetree.compiler.status()"
   ]
  },
  {
   "cell_type": "markdown",
   "metadata": {},
   "source": [
    "### Connect a device\n",
    "\n",
    "Like in ziPython one can connect a device to a data server. If the device is not connected one can access it\n",
    "directly without the need of connecting it, although connecting an already connected device does not harm (the\n",
    "same way it doesn`t in ziPython)"
   ]
  },
  {
   "cell_type": "code",
   "execution_count": 22,
   "metadata": {},
   "outputs": [
    {
     "data": {
      "text/plain": [
       "SHFQA(SHFQA4,dev12033)"
      ]
     },
     "execution_count": 22,
     "metadata": {},
     "output_type": "execute_result"
    }
   ],
   "source": [
    "device = session.connect_device(\"dev12033\")\n",
    "device"
   ]
  },
  {
   "cell_type": "code",
   "execution_count": 23,
   "metadata": {},
   "outputs": [
    {
     "data": {
      "text/plain": [
       "True"
      ]
     },
     "execution_count": 23,
     "metadata": {},
     "output_type": "execute_result"
    }
   ],
   "source": [
    "session.devices[\"dev12033\"] == device"
   ]
  },
  {
   "cell_type": "markdown",
   "metadata": {},
   "source": [
    "## Lazy Nodetree"
   ]
  },
  {
   "cell_type": "markdown",
   "metadata": {},
   "source": [
    "All nodes from the device are automatically accessible via the lazy nodetree\n",
    "\n",
    "Since the nodetree is generated lazy the setup time is close to 0"
   ]
  },
  {
   "cell_type": "code",
   "execution_count": 24,
   "metadata": {},
   "outputs": [
    {
     "data": {
      "text/plain": [
       "['clockbase',\n",
       " 'dios',\n",
       " 'features',\n",
       " 'max_qubits_per_channel',\n",
       " 'num_qachannels',\n",
       " 'num_scopes',\n",
       " 'qachannels',\n",
       " 'scopes',\n",
       " 'stats',\n",
       " 'status',\n",
       " 'system']"
      ]
     },
     "execution_count": 24,
     "metadata": {},
     "output_type": "execute_result"
    }
   ],
   "source": [
    "dir(device)"
   ]
  },
  {
   "cell_type": "code",
   "execution_count": 25,
   "metadata": {},
   "outputs": [
    {
     "name": "stdout",
     "output_type": "stream",
     "text": [
      "/DEV12033/QACHANNELS/0/OSCS/0/FREQ\n",
      "Controls the frequency of each digital Oscillator.\n",
      "Double\n",
      "Hz\n",
      "{}\n",
      "Read, Write, Setting\n"
     ]
    }
   ],
   "source": [
    "print(device.qachannels[0].oscs[0].freq.node)\n",
    "print(device.qachannels[0].oscs[0].freq.description)\n",
    "print(device.qachannels[0].oscs[0].freq.type)\n",
    "print(device.qachannels[0].oscs[0].freq.unit)\n",
    "print(device.qachannels[0].oscs[0].freq.options)\n",
    "print(device.qachannels[0].oscs[0].freq.properties)"
   ]
  },
  {
   "cell_type": "markdown",
   "metadata": {},
   "source": [
    "Since the nodetree is lazy the nodetree only checks if the node is valid once \n",
    "one performs operations on it"
   ]
  },
  {
   "cell_type": "code",
   "execution_count": 26,
   "metadata": {},
   "outputs": [
    {
     "data": {
      "text/plain": [
       "/dev12033/weird/name/not/existing"
      ]
     },
     "execution_count": 26,
     "metadata": {},
     "output_type": "execute_result"
    }
   ],
   "source": [
    "device.weird.name.not_.existing"
   ]
  },
  {
   "cell_type": "code",
   "execution_count": 27,
   "metadata": {},
   "outputs": [
    {
     "ename": "KeyError",
     "evalue": "'/dev12033/weird/name/not/existing'",
     "output_type": "error",
     "traceback": [
      "\u001b[0;31m---------------------------------------------------------------------------\u001b[0m",
      "\u001b[0;31mKeyError\u001b[0m                                  Traceback (most recent call last)",
      "\u001b[0;32m/var/folders/rn/c4zhm_7s7lz688wwdvgb2hyh0000gn/T/ipykernel_24889/1229879526.py\u001b[0m in \u001b[0;36m<module>\u001b[0;34m\u001b[0m\n\u001b[0;32m----> 1\u001b[0;31m \u001b[0mdevice\u001b[0m\u001b[0;34m.\u001b[0m\u001b[0mweird\u001b[0m\u001b[0;34m.\u001b[0m\u001b[0mname\u001b[0m\u001b[0;34m.\u001b[0m\u001b[0mnot_\u001b[0m\u001b[0;34m.\u001b[0m\u001b[0mexisting\u001b[0m\u001b[0;34m.\u001b[0m\u001b[0munit\u001b[0m\u001b[0;34m\u001b[0m\u001b[0;34m\u001b[0m\u001b[0m\n\u001b[0m",
      "\u001b[0;32m~/.pyenv/versions/3.9.7/envs/toolkit/lib/python3.9/site-packages/zhinst/toolkit/nodetree/node.py\u001b[0m in \u001b[0;36munit\u001b[0;34m(self)\u001b[0m\n\u001b[1;32m    511\u001b[0m     \u001b[0;32mdef\u001b[0m \u001b[0munit\u001b[0m\u001b[0;34m(\u001b[0m\u001b[0mself\u001b[0m\u001b[0;34m)\u001b[0m \u001b[0;34m->\u001b[0m \u001b[0mstr\u001b[0m\u001b[0;34m:\u001b[0m\u001b[0;34m\u001b[0m\u001b[0;34m\u001b[0m\u001b[0m\n\u001b[1;32m    512\u001b[0m         \u001b[0;34m\"\"\"Unit of the node.\"\"\"\u001b[0m\u001b[0;34m\u001b[0m\u001b[0;34m\u001b[0m\u001b[0m\n\u001b[0;32m--> 513\u001b[0;31m         \u001b[0;32mreturn\u001b[0m \u001b[0mself\u001b[0m\u001b[0;34m.\u001b[0m\u001b[0m_node_information\u001b[0m\u001b[0;34m.\u001b[0m\u001b[0mget\u001b[0m\u001b[0;34m(\u001b[0m\u001b[0;34m\"Unit\"\u001b[0m\u001b[0;34m,\u001b[0m \u001b[0;34m\"\"\u001b[0m\u001b[0;34m)\u001b[0m\u001b[0;34m\u001b[0m\u001b[0;34m\u001b[0m\u001b[0m\n\u001b[0m\u001b[1;32m    514\u001b[0m \u001b[0;34m\u001b[0m\u001b[0m\n\u001b[1;32m    515\u001b[0m     \u001b[0;34m@\u001b[0m\u001b[0mproperty\u001b[0m\u001b[0;34m\u001b[0m\u001b[0;34m\u001b[0m\u001b[0m\n",
      "\u001b[0;32m~/.pyenv/versions/3.9.7/envs/toolkit/lib/python3.9/site-packages/zhinst/toolkit/nodetree/node.py\u001b[0m in \u001b[0;36m_node_information\u001b[0;34m(self)\u001b[0m\n\u001b[1;32m    135\u001b[0m         \u001b[0;32mif\u001b[0m \u001b[0many\u001b[0m\u001b[0;34m(\u001b[0m\u001b[0mwildcard\u001b[0m \u001b[0;32min\u001b[0m \u001b[0;34m\"\"\u001b[0m\u001b[0;34m.\u001b[0m\u001b[0mjoin\u001b[0m\u001b[0;34m(\u001b[0m\u001b[0mself\u001b[0m\u001b[0;34m.\u001b[0m\u001b[0m_tree\u001b[0m\u001b[0;34m)\u001b[0m \u001b[0;32mfor\u001b[0m \u001b[0mwildcard\u001b[0m \u001b[0;32min\u001b[0m \u001b[0;34m[\u001b[0m\u001b[0;34m\"*\"\u001b[0m\u001b[0;34m,\u001b[0m \u001b[0;34m\"?\"\u001b[0m\u001b[0;34m,\u001b[0m \u001b[0;34m\"[\"\u001b[0m\u001b[0;34m]\u001b[0m\u001b[0;34m)\u001b[0m\u001b[0;34m:\u001b[0m\u001b[0;34m\u001b[0m\u001b[0;34m\u001b[0m\u001b[0m\n\u001b[1;32m    136\u001b[0m             \u001b[0;32mraise\u001b[0m \u001b[0mKeyError\u001b[0m\u001b[0;34m(\u001b[0m\u001b[0mself\u001b[0m\u001b[0;34m.\u001b[0m\u001b[0m_root\u001b[0m\u001b[0;34m.\u001b[0m\u001b[0mnode_to_raw_path\u001b[0m\u001b[0;34m(\u001b[0m\u001b[0mself\u001b[0m\u001b[0;34m)\u001b[0m\u001b[0;34m)\u001b[0m\u001b[0;34m\u001b[0m\u001b[0;34m\u001b[0m\u001b[0m\n\u001b[0;32m--> 137\u001b[0;31m         \u001b[0;32mreturn\u001b[0m \u001b[0mself\u001b[0m\u001b[0;34m.\u001b[0m\u001b[0m_root\u001b[0m\u001b[0;34m.\u001b[0m\u001b[0mget_node_info\u001b[0m\u001b[0;34m(\u001b[0m\u001b[0mself\u001b[0m\u001b[0;34m)\u001b[0m\u001b[0;34m\u001b[0m\u001b[0;34m\u001b[0m\u001b[0m\n\u001b[0m\u001b[1;32m    138\u001b[0m \u001b[0;34m\u001b[0m\u001b[0m\n\u001b[1;32m    139\u001b[0m     \u001b[0;34m@\u001b[0m\u001b[0mlazy_property\u001b[0m\u001b[0;34m\u001b[0m\u001b[0;34m\u001b[0m\u001b[0m\n",
      "\u001b[0;32m~/.pyenv/versions/3.9.7/envs/toolkit/lib/python3.9/site-packages/zhinst/toolkit/nodetree/nodetree.py\u001b[0m in \u001b[0;36mget_node_info\u001b[0;34m(self, node)\u001b[0m\n\u001b[1;32m    171\u001b[0m                 \u001b[0mresult\u001b[0m\u001b[0;34m.\u001b[0m\u001b[0mappend\u001b[0m\u001b[0;34m(\u001b[0m\u001b[0mself\u001b[0m\u001b[0;34m.\u001b[0m\u001b[0m_flat_dict\u001b[0m\u001b[0;34m.\u001b[0m\u001b[0mget\u001b[0m\u001b[0;34m(\u001b[0m\u001b[0msingle_key\u001b[0m\u001b[0;34m)\u001b[0m\u001b[0;34m)\u001b[0m\u001b[0;34m\u001b[0m\u001b[0;34m\u001b[0m\u001b[0m\n\u001b[1;32m    172\u001b[0m         \u001b[0;32mif\u001b[0m \u001b[0;32mnot\u001b[0m \u001b[0mresult\u001b[0m\u001b[0;34m:\u001b[0m\u001b[0;34m\u001b[0m\u001b[0;34m\u001b[0m\u001b[0m\n\u001b[0;32m--> 173\u001b[0;31m             \u001b[0;32mraise\u001b[0m \u001b[0mKeyError\u001b[0m\u001b[0;34m(\u001b[0m\u001b[0mkey\u001b[0m\u001b[0;34m)\u001b[0m\u001b[0;34m\u001b[0m\u001b[0;34m\u001b[0m\u001b[0m\n\u001b[0m\u001b[1;32m    174\u001b[0m         \u001b[0;32mreturn\u001b[0m \u001b[0mresult\u001b[0m\u001b[0;34m\u001b[0m\u001b[0;34m\u001b[0m\u001b[0m\n\u001b[1;32m    175\u001b[0m \u001b[0;34m\u001b[0m\u001b[0m\n",
      "\u001b[0;31mKeyError\u001b[0m: '/dev12033/weird/name/not/existing'"
     ]
    }
   ],
   "source": [
    "device.weird.name.not_.existing.unit"
   ]
  },
  {
   "cell_type": "markdown",
   "metadata": {},
   "source": [
    "To get or set values one can use the call function. No argument gets the value\n",
    "and a single argument sets the provided value.\n",
    "\n",
    "(the nodetree automatically matches the call to the right ziPython function)\n",
    "\n",
    "the following kwargs are provided\n",
    "\n",
    "        deep (bool): Flag if the get operation should return the cached value from\n",
    "            the dataserver or get the value from the device, which is significantly\n",
    "            slower."
   ]
  },
  {
   "cell_type": "code",
   "execution_count": 28,
   "metadata": {},
   "outputs": [
    {
     "data": {
      "text/plain": [
       "(102911128987440, 100000000.00000142)"
      ]
     },
     "execution_count": 28,
     "metadata": {},
     "output_type": "execute_result"
    }
   ],
   "source": [
    "device.qachannels[0].oscs[0].freq(deep=True)"
   ]
  },
  {
   "cell_type": "code",
   "execution_count": 29,
   "metadata": {},
   "outputs": [
    {
     "name": "stdout",
     "output_type": "stream",
     "text": [
      "100000000.00000142\n",
      "100999999.99999909\n"
     ]
    }
   ],
   "source": [
    "value = device.qachannels[0].oscs[0].freq()\n",
    "print(value)\n",
    "device.qachannels[0].oscs[0].freq(value + 1e6, deep=True)\n",
    "print(device.qachannels[0].oscs[0].freq())\n",
    "device.qachannels[0].oscs[0].freq(value)"
   ]
  },
  {
   "cell_type": "markdown",
   "metadata": {},
   "source": [
    "### Wildcards\n",
    "\n",
    "The nodetree fully supports wildcards. This means getting, setting, subscribing, waiting\n",
    "for wildcard nodes is possible.\n",
    "(all unix wildcards are supported but * is probably the most usefull)"
   ]
  },
  {
   "cell_type": "code",
   "execution_count": 30,
   "metadata": {},
   "outputs": [
    {
     "data": {
      "text/plain": [
       "{/DEV12033/QACHANNELS/0/OSCS/0/FREQ: (102925809018788, 100000000.00000142)}"
      ]
     },
     "execution_count": 30,
     "metadata": {},
     "output_type": "execute_result"
    }
   ],
   "source": [
    "device.qachannels[0][\"*/*\"].freq()"
   ]
  },
  {
   "cell_type": "code",
   "execution_count": 31,
   "metadata": {},
   "outputs": [
    {
     "data": {
      "text/plain": [
       "{/DEV12033/QACHANNELS/0/OSCS/0/FREQ: (102929288991224, 100000000.00000142),\n",
       " /DEV12033/QACHANNELS/1/OSCS/0/FREQ: (102929288991224, 100000000.00000142),\n",
       " /DEV12033/QACHANNELS/2/OSCS/0/FREQ: (102929288991224, 100000000.00000142),\n",
       " /DEV12033/QACHANNELS/3/OSCS/0/FREQ: (102929288991224, 100000000.00000142)}"
      ]
     },
     "execution_count": 31,
     "metadata": {},
     "output_type": "execute_result"
    }
   ],
   "source": [
    "device.qachannels[\"*\"].oscs[\"*\"].freq()"
   ]
  },
  {
   "cell_type": "code",
   "execution_count": 32,
   "metadata": {},
   "outputs": [],
   "source": [
    "device.qachannels[\"*\"].oscs[\"*\"].freq(100e6)"
   ]
  },
  {
   "cell_type": "code",
   "execution_count": 33,
   "metadata": {},
   "outputs": [
    {
     "data": {
      "text/plain": [
       "{/DEV12033/QACHANNELS/0/OSCS/0/FREQ: (102940129025612, 100000000.00000142),\n",
       " /DEV12033/QACHANNELS/1/OSCS/0/FREQ: (102940129025612, 100000000.00000142),\n",
       " /DEV12033/QACHANNELS/2/OSCS/0/FREQ: (102940129025612, 100000000.00000142),\n",
       " /DEV12033/QACHANNELS/3/OSCS/0/FREQ: (102940129025612, 100000000.00000142)}"
      ]
     },
     "execution_count": 33,
     "metadata": {},
     "output_type": "execute_result"
    }
   ],
   "source": [
    "device.qachannels[\"*\"].oscs[\"*\"].freq()"
   ]
  },
  {
   "cell_type": "code",
   "execution_count": 34,
   "metadata": {},
   "outputs": [
    {
     "data": {
      "text/plain": [
       "(102944850043496, 100000000.00000142)"
      ]
     },
     "execution_count": 34,
     "metadata": {},
     "output_type": "execute_result"
    }
   ],
   "source": [
    "result = device.qachannels[\"*\"].oscs[\"*\"].freq()\n",
    "result[device.qachannels[0].oscs[0].freq]"
   ]
  },
  {
   "cell_type": "markdown",
   "metadata": {},
   "source": [
    "### Transactional set\n",
    "wildcards use a transactional set and get in the under the hood. In addition one can directly\n",
    "perform transactional sets with a `with` statement. Every set command inside this\n",
    "statement will be cached and send as a single transaction to the device."
   ]
  },
  {
   "cell_type": "code",
   "execution_count": 35,
   "metadata": {},
   "outputs": [],
   "source": [
    "with device.set_transaction():\n",
    "    device.qachannels[0].centerfreq(1e6)\n",
    "    device.qachannels[0].mode(0)"
   ]
  },
  {
   "cell_type": "markdown",
   "metadata": {},
   "source": [
    "# Polling\n",
    "\n",
    "The refactored toolkit also adds support for polling. Since polling is done on a\n",
    "data server level and not device specific it is implemented in the session class"
   ]
  },
  {
   "cell_type": "code",
   "execution_count": 36,
   "metadata": {},
   "outputs": [
    {
     "data": {
      "text/plain": [
       "{SHFQA(SHFQA4,dev12033): {/DEV12033/DIOS/0/OUTPUT: {'timestamp': array([102954849027060, 102956850113172, 102958888988684, 102960929019096],\n",
       "         dtype=uint64),\n",
       "   'value': array([1, 0, 1, 0], dtype=int64)}}}"
      ]
     },
     "execution_count": 36,
     "metadata": {},
     "output_type": "execute_result"
    }
   ],
   "source": [
    "device.dios[0].output.subscribe()\n",
    "import time\n",
    "device.dios[0].output(1)\n",
    "time.sleep(0.5)\n",
    "device.dios[0].output(0)\n",
    "time.sleep(0.5)\n",
    "device.dios[0].output(1)\n",
    "time.sleep(0.5)\n",
    "device.dios[0].output(0)\n",
    "polled_data = session.poll()\n",
    "polled_data"
   ]
  },
  {
   "cell_type": "markdown",
   "metadata": {},
   "source": [
    "The polled data is a dictionary [node] "
   ]
  },
  {
   "cell_type": "code",
   "execution_count": 37,
   "metadata": {},
   "outputs": [
    {
     "data": {
      "text/plain": [
       "{'timestamp': array([102954849027060, 102956850113172, 102958888988684, 102960929019096],\n",
       "       dtype=uint64),\n",
       " 'value': array([1, 0, 1, 0], dtype=int64)}"
      ]
     },
     "execution_count": 37,
     "metadata": {},
     "output_type": "execute_result"
    }
   ],
   "source": [
    "polled_data[device.dios[0].output]"
   ]
  },
  {
   "cell_type": "markdown",
   "metadata": {},
   "source": [
    "# Additional functionalities\n",
    "Besides the lazy nodetree and the functionalities from the session and BaseInstrument\n",
    "toolkit provides additional functions for some instruments. \n",
    "\n",
    "Right now SHFQA and SHFSG do have such functions. The other devices join before\n",
    "the release. \n",
    "\n",
    "The additional functions are embedded into the nodetree. Once the documentation\n",
    "is up and running one can easily see the functionality there. For now the\n",
    "functionality can be look up in the code directly or via the python help. \n",
    "\n",
    "Everything inside the old toolkit is more or less also available in the new one.\n",
    "\n",
    "For the SHFQA the device utiliy functions are already embedded\n",
    "\n",
    "In the following a few functions are shown:"
   ]
  },
  {
   "cell_type": "code",
   "execution_count": 38,
   "metadata": {},
   "outputs": [
    {
     "name": "stdout",
     "output_type": "stream",
     "text": [
      "Help on method configure_channel in module zhinst.toolkit.driver.shfqa:\n",
      "\n",
      "configure_channel(input_range: int, output_range: int, center_frequency: float, mode: zhinst.toolkit.interface.SHFQAChannelMode) -> None method of zhinst.toolkit.driver.shfqa.QAChannel instance\n",
      "    Configures the RF input and output of a specified channel.\n",
      "    \n",
      "    Args:\n",
      "        input_range (int): maximal range of the signal input power in dbM\n",
      "        output_range (int): maximal range of the signal output power in dbM\n",
      "        center_frequency (float): center Frequency of the analysis band\n",
      "        mode (SHFQAChannelMode): select between spectroscopy and readout mode.\n",
      "\n"
     ]
    }
   ],
   "source": [
    "help(device.qachannels[0].configure_channel)"
   ]
  },
  {
   "cell_type": "code",
   "execution_count": 39,
   "metadata": {},
   "outputs": [
    {
     "name": "stdout",
     "output_type": "stream",
     "text": [
      "Help on method run in module zhinst.toolkit.driver.modules.shfqa_sweeper:\n",
      "\n",
      "run() method of zhinst.toolkit.driver.modules.shfqa_sweeper.SHFSweeper instance\n",
      "    Perform a sweep with the specified settings.\n",
      "    \n",
      "    This method eventually wraps around the `run` method of\n",
      "    `zhinst.utils.shf_sweeper`\n",
      "\n"
     ]
    }
   ],
   "source": [
    "help(device.qachannels[0].sweeper.run)"
   ]
  },
  {
   "cell_type": "markdown",
   "metadata": {},
   "source": [
    "# Sequencer and Waveform\n",
    "\n",
    "In contrast to the old toolkit the refactoring decouples the waveform and\n",
    "sequences from the devices. \n",
    "\n",
    "What happens to the predefined sequences will be descided. For now one has to\n",
    "define them by oneself."
   ]
  },
  {
   "cell_type": "code",
   "execution_count": 41,
   "metadata": {},
   "outputs": [],
   "source": [
    "sequencer_code=\"\"\"\\\n",
    "wave w0_1 = placeholder(1008);\n",
    "wave w0_2 = placeholder(1008);\n",
    "wave w1_1 = placeholder(1008);\n",
    "wave w1_2 = placeholder(1008);\n",
    "\n",
    "assignWaveIndex(1,2,w0_1,1,2,w0_2,0);\n",
    "assignWaveIndex(1,2,w1_1,1,2,w1_2,2);\n",
    "\"\"\""
   ]
  },
  {
   "cell_type": "markdown",
   "metadata": {},
   "source": [
    "The waveforms are wrapped in a mutuable dictionary called `Waveforms`\n",
    "\n",
    "each waveform consists of a tuple(wave1,wave2,markers).\n",
    "(For more infos see help(Waveforms))\n",
    "\n",
    "**INFO** For the SHFQA the class is called `SHFQAWaveforms`  "
   ]
  },
  {
   "cell_type": "code",
   "execution_count": 42,
   "metadata": {},
   "outputs": [],
   "source": [
    "from zhinst.toolkit import Waveforms\n",
    "import numpy as np\n",
    "\n",
    "waveforms = Waveforms()\n",
    "waveforms[0] = (np.ones(1008), -np.ones(1008))"
   ]
  },
  {
   "cell_type": "code",
   "execution_count": 43,
   "metadata": {},
   "outputs": [
    {
     "data": {
      "text/plain": [
       "2"
      ]
     },
     "execution_count": 43,
     "metadata": {},
     "output_type": "execute_result"
    }
   ],
   "source": [
    "device2 = session.connect_device(\"DEV12029\")\n",
    "\n",
    "device2.sgchannels[0].awg.load_sequencer_program(sequencer_code)\n",
    "device2.sgchannels[0].awg.write_to_waveform_memory(waveforms)\n",
    "\n",
    "# waveforms can also be read from the device\n",
    "waveform_device = device2.sgchannels[0].awg.read_from_waveform_memory()\n",
    "len(waveform_device)"
   ]
  }
 ],
 "metadata": {
  "interpreter": {
   "hash": "c45a0879fdd67795142a52daabb120420d56a8e159c99884322c031ba5bce9ba"
  },
  "kernelspec": {
   "display_name": "Python 3.9.7 64-bit ('toolkit_speed': pyenv)",
   "language": "python",
   "name": "python3"
  },
  "language_info": {
   "codemirror_mode": {
    "name": "ipython",
    "version": 3
   },
   "file_extension": ".py",
   "mimetype": "text/x-python",
   "name": "python",
   "nbconvert_exporter": "python",
   "pygments_lexer": "ipython3",
   "version": "3.9.7"
  },
  "orig_nbformat": 4
 },
 "nbformat": 4,
 "nbformat_minor": 2
}
